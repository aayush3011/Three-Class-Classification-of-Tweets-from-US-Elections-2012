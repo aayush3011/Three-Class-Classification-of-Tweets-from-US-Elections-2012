{
 "cells": [
  {
   "cell_type": "code",
   "execution_count": 69,
   "metadata": {
    "collapsed": true
   },
   "outputs": [],
   "source": [
    "import re\n",
    "import pandas as pd\n",
    "import numpy as np\n",
    "import warnings\n",
    "from bs4 import BeautifulSoup\n",
    "from nltk.tokenize import RegexpTokenizer\n",
    "from nltk.corpus import stopwords\n",
    "from nltk.stem import PorterStemmer,WordNetLemmatizer\n",
    "from wordsegment import segment\n",
    "from html import unescape\n",
    "import itertools\n",
    "import random\n",
    "warnings.filterwarnings('ignore')\n",
    "\n",
    "\n",
    "from sklearn.cross_validation import train_test_split,cross_val_score, KFold,cross_val_predict\n",
    "from sklearn.metrics import confusion_matrix, f1_score, classification_report\n",
    "from sklearn.metrics import precision_score,recall_score\n",
    "from sklearn.feature_extraction.text import CountVectorizer\n",
    "from sklearn.svm import LinearSVC\n",
    "from sklearn.ensemble import RandomForestClassifier,VotingClassifier\n",
    "from sklearn.neural_network import MLPClassifier\n",
    "from sklearn.naive_bayes import MultinomialNB"
   ]
  },
  {
   "cell_type": "code",
   "execution_count": 2,
   "metadata": {
    "collapsed": true
   },
   "outputs": [],
   "source": [
    "xl_file = pd.ExcelFile(\"testing-Obama-Romney-tweets.xlsx\", encoding='utf-8')"
   ]
  },
  {
   "cell_type": "code",
   "execution_count": 3,
   "metadata": {
    "collapsed": true
   },
   "outputs": [],
   "source": [
    "dfs = {sheet_name: xl_file.parse('Obama',encoding='utf-8') \n",
    "          for sheet_name in xl_file.sheet_names}\n",
    "obamaData=dfs.get('Obama')"
   ]
  },
  {
   "cell_type": "code",
   "execution_count": 4,
   "metadata": {
    "collapsed": true
   },
   "outputs": [],
   "source": [
    "dfs = {sheet_name: xl_file.parse('Romney',encoding='utf-8') \n",
    "          for sheet_name in xl_file.sheet_names}\n",
    "romneyData=dfs.get('Romney')"
   ]
  },
  {
   "cell_type": "code",
   "execution_count": 7,
   "metadata": {
    "collapsed": true
   },
   "outputs": [],
   "source": [
    "def clearColumns(dataDF):\n",
    "    dataDF=dataDF.drop(dataDF.columns[[1,2,3]], axis=1)\n",
    "    dataDF.columns = ['tweet', 'label']\n",
    "    dataDF = dataDF.ix[1:]\n",
    "    print(dataDF)\n",
    "    print(dataDF['label'].unique())\n",
    "    dataDF=dataDF[dataDF['label'].isin([0,1,-1,u'-1',u'1',u'0'])]\n",
    "    return dataDF"
   ]
  },
  {
   "cell_type": "code",
   "execution_count": 8,
   "metadata": {
    "collapsed": false
   },
   "outputs": [
    {
     "name": "stdout",
     "output_type": "stream",
     "text": [
      "                                                  tweet label\n",
      "1     <e>Obama</e> wants to tax foreign earnings. Th...    -1\n",
      "2     <e>Obama</e> has to maintain his professionali...     1\n",
      "3     I hate <e>Obama</e> with a BURNING PASSION #de...    -1\n",
      "4     I don't like<e>Obama</e> because his stupid <a...    -1\n",
      "5     The only thing I don't like about <e>Obama</e>...    -1\n",
      "6     <e>Obama</e>snuck the 47% in when<e>Romney </e...     2\n",
      "7     The people who vote for<e>Obama</e> dont reali...    -1\n",
      "8     It's difficult to give <e>Obama</e> a grade wh...    -1\n",
      "9     cspanwj <e>Obama</e> LOST IN BOTH STYLE AND SU...    -1\n",
      "10    <e>Obama</e><a> lied about his rosé garden cla...    -1\n",
      "11    <e>Obama</e> went into the debate swinging and...     1\n",
      "12    <e>Obama</e> came across as bitter, condescend...    -1\n",
      "13                 I literally can't stand<e>Obama</e>.    -1\n",
      "14    Can anyone who is a <e>Obama</e> supporter giv...     0\n",
      "15    I loved when <e>Romney </e>kept asking <e>Obam...     2\n",
      "16    The choice is clear: morning in America or thi...    -1\n",
      "17    How does <e>Obama</e> keep a straight face wit...    -1\n",
      "18    <e>Obama</e>: \"I'm the president and I'm alway...    -1\n",
      "19    Free Market economies are ran by the people an...     0\n",
      "20    POW! BAM! “@secupp: <e>Romney </e>just crushed...     2\n",
      "21    Ditto. I started @247LS 4 years ago. RT @bmorr...     1\n",
      "22    Look at <e>Obama</e>'s record hell ya <e>Mitt ...     2\n",
      "23    <e>Obama</e>'s problem - good rhetoric, but ba...    -1\n",
      "24    I love that #<e>romney </e>can call out and as...     2\n",
      "25    I can't believe people are still believing<e>O...    -1\n",
      "26    <e>Obama</e>'s giant <a>ears</a> probably wish...    -1\n",
      "27    #debates  Overwhelming theme of debate is <e>O...     2\n",
      "28    <e>Obama</e>'s deported a record number of peo...    -1\n",
      "29    <e>Obama</e>'s administration enabled the murd...    -1\n",
      "30    <e>Obama</e>'s stance on immigration &gt; WE'R...     0\n",
      "...                                                 ...   ...\n",
      "2371   @vickikellar Candy cutting off <e>Romney</e> ...     2\n",
      "2372   Seeing and hearing <e>Obama</e> was pretty co...     1\n",
      "2373   #SupremeCourt Agrees To Hear Case On #Federal...     0\n",
      "2374   <e>Obama</e>  <e>Romney</e> Reprise Their Gre...     2\n",
      "2375   Again  <e>Obama</e> did NOT call Benghazi an ...    -1\n",
      "2376   There's an anti <e>Obama</e> thing going on o...     1\n",
      "2377   Denied on phish lotto x3. Email right after w...     0\n",
      "2378   5 Twitter Lessons From the <e>Obama</e> and <...     2\n",
      "2379   Sharpton's guest said: The right-wing doesn't...     2\n",
      "2380   Thought there was an invasion going on outsid...     0\n",
      "2381   \"@RickWarren: Another Christian University(ET...     0\n",
      "2382   <e>Obama</e> cleared all the troops out of Ir...    -1\n",
      "2383   \"@SheWantThaD: If <e>Obama</e> Loses   I Say ...     1\n",
      "2384   #Rommunism = <e>Romney</e>'s <a>Economic Plan...     2\n",
      "2385   Obama-rama! Barack deserves a second term. He...     1\n",
      "2386   @IngrahamAngle Of course O did say \"act of te...    -1\n",
      "2387   People need to listen to <e>Obama</e>   not l...     1\n",
      "2388   ‰ÛÏIt is highly offensive that the <e>Obama</...    -1\n",
      "2389   KEEP THE GOOD NEWS COMING! Obama's lead over ...    -1\n",
      "2390   ‹ÛNews‹ÛÔ Obama  <e>Romney</e> seek support ...     2\n",
      "2391   #Obama said <a>gas prices</a> low under Bush ...    -1\n",
      "2392    41199 PM 0.292361111111111 Gender gap contin...     0\n",
      "2393   This election may come down to people who lov...     1\n",
      "2394   <e>Obama<e><e>Romney</e>                     ...     2\n",
      "2395   @jtLOL Mitt puts them in binders; <e>Obama</e...     2\n",
      "2396   ‰ÑÈ <e>Obama</e> ‰ÑÈ <e>Romney</e> ‰ÏÓPedro #...     2\n",
      "2397   @DMichael_ It leaves out other black immigran...     0\n",
      "2398   @BarackObama <e>Romney</e>. <e>Obama</e> need...    -1\n",
      "2399   <e>Barack Obama</e> and Candy Crowley vs. <e>...     2\n",
      "2400   Rae Sky  My company's stock hit a 52-week hig...     0\n",
      "\n",
      "[2400 rows x 2 columns]\n",
      "[-1 1 2 0 'ir']\n",
      "                                                  tweet  label\n",
      "1     <e>Romney</e>'s plan for gun control is ... tw...     -1\n",
      "2     <e>Romney </e>is totally confused about causal...     -1\n",
      "3     I fucking hate <e>Mitt Romney</e>'s face. This...     -1\n",
      "4     <e>Romney</e>'s plan for immigrants is to make...     -1\n",
      "5     <e>Romney</e> said he sat cross the table from...     -1\n",
      "6     <e>Romney</e> just confused the hell out of me...     -1\n",
      "7     Everytime <e>Romney</e> gives that little sarc...     -1\n",
      "8     If you are concerned about a gridlocked Congre...     -1\n",
      "9     I ABSOLUTELY love  <e>Romney </e>'s <a>views a...     -1\n",
      "10    Now  <e> Mitt Romney  </e>wants to talk about ...     -1\n",
      "11    <e>Romney  </e>is making it up totally as he g...     -1\n",
      "12    Don't worry  <e>Mitt Romney  </e>when you don'...     -1\n",
      "13    <e>Obama  </e>rocked the house on how <e> Romn...      2\n",
      "14    So  <e>Romney  </e>basically just said if some...     -1\n",
      "15    I'm a little confused as to what # <e>Romney <...     -1\n",
      "16    did  <e>romney  </e>REALLy just say that it wa...     -1\n",
      "17    <e>Mitt  </e>is beating him UP!  on his record...      1\n",
      "18    There is already a employment verification pro...     -1\n",
      "19    I like some of the things <e> Romney  </e>is s...      2\n",
      "20    I hope my Latino and Latina sisters and brothe...     -1\n",
      "21    military service, <e> mitt </e>? you wouldn't ...     -1\n",
      "22    I dont think  <e>Mitt Romney  </e>has answered...     -1\n",
      "23    How dare  <e>Romney  </e>say they can go in th...     -1\n",
      "24    <e>Obama  </e>wins on smirks and little girl s...     -1\n",
      "25    <e>Romney  </e>is digging his grave for Latino...     -1\n",
      "26    <e>Romney </e>'s answer on <e>Obama</e> record...      2\n",
      "27    Does  <e>Romney  </e>not know how long it take...     -1\n",
      "28    <e>Mitt Romney </e>'s <a>Policy on Immigration...     -1\n",
      "29    <e>Romney </e>...looking desperate at times an...     -1\n",
      "30    I actually like  <e>Romney </e>'s response to ...      1\n",
      "...                                                 ...    ...\n",
      "2385  Karl Rove: No Candidate Has Ever Lost With Num...     -1\n",
      "2386  <e>Romney</e>'s Proposal to Cap Deductions Wou...     -1\n",
      "2387  http://t.co/pPT8a7ax Matthews Hints at <e>Romn...      2\n",
      "2388  <e>Romney</e>'s deduction caps don't pay for t...      0\n",
      "2389  <e>Barack obama</e> stages comeback in second ...      2\n",
      "2390          <e>obama</e> ,<e>Romney</e>‚ì Yoga Pants\"      2\n",
      "2391  Lets put #<e>obama</e> & #Romney in the Hunger...      2\n",
      "2392  CNN Tries to Blunt <e>Romney</e>Criticism Over...      0\n",
      "2393  <e>Mitt Romney</e>couldn't run a bath\" let alo...     -1\n",
      "2394  <e>Mitt Romney</e>'s \"\"One Point Plan\"\" Is Mak...     -1\n",
      "2395  New post: 'Are The Presidential Candidates Goo...      0\n",
      "2396  \\t@GStephanopoulos I'd like <a>straight answer...     -1\n",
      "2397  <e>Mitt Romney</e>don't pay no tax\" Mitt Romne...      0\n",
      "2398                 Nigga call me Steve <e>Romney</e>\"      0\n",
      "2399             I bet <e>Mitt Romney</e>wears crocks.\"      0\n",
      "2400  Gangbanger: Ay Homie.... Who you roll with?!?....     -1\n",
      "2401  I know another thing about <e>Mitt Romney</e>h...      0\n",
      "2402  So if your employer tell you to vote for <e>Ro...      0\n",
      "2403  President Clinton Explains <e>Mitt Romney</e>'...      0\n",
      "2404  @WhoopiGoldberg \"\"Hardball w/Chris Matthews st...      0\n",
      "2405  <e>Romney</e>Adviser: <e>Romney</e>Would Have ...      0\n",
      "2406  @jamalhbryant @SamFeistCNN Interesting statist...      0\n",
      "2407  The reason Ann <e>Romney</e>is so confused is ...     -1\n",
      "2408  Voters say <e>obama</e> beat <e>Romney</e>in s...      2\n",
      "2409         <e>Romney</e>/Ryan ‚ http://t.co/8EcryvIL\"      0\n",
      "2410  <e>Michelle obama</e> vs. <e>Ann Romney</e>‚ F...      0\n",
      "2411  <e>Romney</e>and the binder blunder - Yahoo! N...      0\n",
      "2412  @deniseromano NEW HIDDEN CAMERA VIDEO re: #Rom...      0\n",
      "2413  how many times does the <a>5 point plan<a> nee...      0\n",
      "2414  @Michelle<e>obama</e> <e>Romney</e>should resp...     -1\n",
      "\n",
      "[2414 rows x 2 columns]\n",
      "[-1  2  1  0]\n"
     ]
    }
   ],
   "source": [
    "obamaDataDF = clearColumns(obamaData)\n",
    "romneyDataDF = clearColumns(romneyData)\n"
   ]
  },
  {
   "cell_type": "code",
   "execution_count": 9,
   "metadata": {
    "collapsed": true
   },
   "outputs": [],
   "source": [
    "def cleanURLS(tweet):\n",
    "    tweet=re.sub('http[s]?://(?:[a-z]|[0-9]|[$-_@.&+]|[!*\\(\\),]|(?:%[0-9a-f][0-9a-f]))+', '', tweet)\n",
    "    return tweet\n",
    "    \n",
    "def getText_fromHTML(tweet):\n",
    "    soup = BeautifulSoup(tweet)\n",
    "    tweet = soup.get_text()\n",
    "    return tweet\n",
    "\n",
    "def removeAppostophes(tweet):\n",
    "    appostophes = {\"s\": \"is\", \"re\": \"are\", \"em\": \"them\", \"ll\": \"will\", \"t\": \"it\", \"m\": \"am\", \"ve\": \"have\", \"d\": \"did\"}\n",
    "    words = []\n",
    "    [words.append(terms) for word in tweet.split() for terms in [appostophes[term] if term in appostophes else term for\n",
    "                                                                 term in word.split(\"'\")]]\n",
    "    tweet = \" \".join(words)\n",
    "    return tweet\n",
    "\n",
    "def splitAttachedwords(tweet):\n",
    "    tweet = \" \".join(segment(tweet))\n",
    "    return tweet\n",
    "\n",
    "def lemmatisation(tweet):\n",
    "    return \" \".join(WordNetLemmatizer().lemmatize(word) for word in tweet.split())\n",
    "\n",
    "def stemming(tweet):\n",
    "    return \" \".join(PorterStemmer().stem(word) for word in tweet.split())"
   ]
  },
  {
   "cell_type": "code",
   "execution_count": 10,
   "metadata": {
    "collapsed": true
   },
   "outputs": [],
   "source": [
    "def cleanTweets(dataDF):\n",
    "    rowsToBeRemoved=[]\n",
    "    TAG_RE = re.compile(r'<[^>]+>')\n",
    "    for index, row in dataDF.iterrows():\n",
    "        tweet=row['tweet']\n",
    "        if isinstance(row['label'], str) == True:\n",
    "            row['label']=int(row['label'])\n",
    "        output=\"\"      \n",
    "        if isinstance(tweet, str) == False:\n",
    "            rowsToBeRemoved.append(index)\n",
    "            continue\n",
    "        tweet=tweet.lower()\n",
    "        \n",
    "        # remove the urls from tweet\n",
    "        tweet = cleanURLS(tweet)\n",
    "\n",
    "        # remove HTML tags\n",
    "        tweet = getText_fromHTML(tweet)\n",
    "        \n",
    "        # remove appostophes\n",
    "        tweet = removeAppostophes(tweet)\n",
    "        \n",
    "        # split attached words ex: goodboy = good boy\n",
    "        tweet = splitAttachedwords(tweet)\n",
    "        \n",
    "        for word in tweet.split(\" \"):\n",
    "            # removing usernames\n",
    "            if word.strip().startswith('@'):\n",
    "                word=\"\"\n",
    "            # removing hashtags\n",
    "            if word.strip().startswith('#'):\n",
    "                word=word[1:]\n",
    "            # strip punctuation\n",
    "            word=re.sub(r'[^\\w\\s]','',word)\n",
    "            if word != \"\" and word.isalpha():\n",
    "                output+=\" \"+word\n",
    "        if len(output)<1:\n",
    "            rowsToBeRemoved.append(index)\n",
    "        output = lemmatisation(output)\n",
    "        output = stemming(output)   \n",
    "        row['tweet']=output.strip()\n",
    "    return dataDF.dropna()"
   ]
  },
  {
   "cell_type": "code",
   "execution_count": 11,
   "metadata": {
    "collapsed": true
   },
   "outputs": [],
   "source": [
    "obamaCleanedData=cleanTweets(obamaDataDF.copy(deep=True))\n",
    "romneyCleanedData=cleanTweets(romneyDataDF.copy(deep=True))\n",
    "# romneyCleanedData.dropna(axis=0,inplace=True)"
   ]
  },
  {
   "cell_type": "markdown",
   "metadata": {},
   "source": [
    "## For Obama Data"
   ]
  },
  {
   "cell_type": "code",
   "execution_count": 60,
   "metadata": {
    "collapsed": false
   },
   "outputs": [
    {
     "name": "stdout",
     "output_type": "stream",
     "text": [
      "5624\n",
      "5600\n"
     ]
    }
   ],
   "source": [
    "obamaData = pd.read_csv(\"obamaCleanedData.csv\")\n",
    "print(len(obamaData))\n",
    "obamaData.dropna(axis=0,inplace=True)\n",
    "print(len(obamaData))"
   ]
  },
  {
   "cell_type": "code",
   "execution_count": 99,
   "metadata": {
    "collapsed": false
   },
   "outputs": [],
   "source": [
    "count_vect = CountVectorizer(max_features=4800)\n",
    "tfidf_transformer = TfidfTransformer()\n",
    "# Training Data\n",
    "obamaData_counts = count_vect.fit_transform(obamaData['tweet'])\n",
    "obamaData_tfidf = tfidf_transformer.fit_transform(obamaData_counts)\n",
    "obamaData_labels = obamaData['label']\n",
    "\n",
    "#Testing Data\n",
    "obamaCleanedData_counts = count_vect.transform(obamaCleanedData['tweet'])\n",
    "obamaCleanedData_labels = obamaCleanedData['label']\n"
   ]
  },
  {
   "cell_type": "markdown",
   "metadata": {},
   "source": [
    "## Naive Bayes"
   ]
  },
  {
   "cell_type": "code",
   "execution_count": 101,
   "metadata": {
    "collapsed": false
   },
   "outputs": [
    {
     "name": "stdout",
     "output_type": "stream",
     "text": [
      "56.4102564103\n",
      "             precision    recall  f1-score   support\n",
      "\n",
      "         -1       0.56      0.68      0.61       687\n",
      "          0       0.55      0.47      0.51       681\n",
      "          1       0.58      0.54      0.56       582\n",
      "\n",
      "avg / total       0.56      0.56      0.56      1950\n",
      "\n",
      "[[467 129  91]\n",
      " [224 321 136]\n",
      " [141 129 312]]\n"
     ]
    }
   ],
   "source": [
    "clf_mnb = MultinomialNB()\n",
    "fit_data = clf_mnb.fit(obamaData_counts,obamaData_labels)\n",
    "predictions = clf_mnb.predict(obamaCleanedData_counts)\n",
    "obamaCleanedData_labels = pd.to_numeric(obamaCleanedData_labels)\n",
    "accuracy = ((predictions==obamaCleanedData_labels).sum()*100/float(len(obamaCleanedData_labels)))\n",
    "confusion = confusion_matrix(obamaCleanedData_labels, predictions)\n",
    "print(accuracy)\n",
    "print(classification_report(obamaCleanedData_labels,predictions))\n",
    "print(confusion)\n"
   ]
  },
  {
   "cell_type": "markdown",
   "metadata": {},
   "source": [
    "## Random Forest"
   ]
  },
  {
   "cell_type": "code",
   "execution_count": 102,
   "metadata": {
    "collapsed": false
   },
   "outputs": [
    {
     "name": "stdout",
     "output_type": "stream",
     "text": [
      "52.2051282051\n",
      "             precision    recall  f1-score   support\n",
      "\n",
      "         -1       0.52      0.59      0.55       687\n",
      "          0       0.50      0.48      0.49       681\n",
      "          1       0.55      0.49      0.52       582\n",
      "\n",
      "avg / total       0.52      0.52      0.52      1950\n",
      "\n",
      "[[405 180 102]\n",
      " [224 325 132]\n",
      " [146 148 288]]\n"
     ]
    }
   ],
   "source": [
    "clf_rfc = RandomForestClassifier(n_estimators=22,class_weight=\"balanced_subsample\")\n",
    "fit_data = clf_rfc.fit(obamaData_counts,obamaData_labels)\n",
    "predictions = clf_rfc.predict(obamaCleanedData_counts)\n",
    "obamaCleanedData_labels = pd.to_numeric(obamaCleanedData_labels)\n",
    "accuracy = ((predictions==obamaCleanedData_labels).sum()*100/float(len(obamaCleanedData_labels)))\n",
    "confusion = confusion_matrix(obamaCleanedData_labels, predictions)\n",
    "print(accuracy)\n",
    "print(classification_report(obamaCleanedData_labels,predictions))\n",
    "print(confusion)\n"
   ]
  },
  {
   "cell_type": "markdown",
   "metadata": {},
   "source": [
    "## Support Vector"
   ]
  },
  {
   "cell_type": "code",
   "execution_count": 103,
   "metadata": {
    "collapsed": false
   },
   "outputs": [
    {
     "name": "stdout",
     "output_type": "stream",
     "text": [
      "55.1794871795\n",
      "             precision    recall  f1-score   support\n",
      "\n",
      "         -1       0.57      0.58      0.57       687\n",
      "          0       0.53      0.53      0.53       681\n",
      "          1       0.56      0.54      0.55       582\n",
      "\n",
      "avg / total       0.55      0.55      0.55      1950\n",
      "\n",
      "[[396 173 118]\n",
      " [183 364 134]\n",
      " [112 154 316]]\n"
     ]
    }
   ],
   "source": [
    "clf_svc = LinearSVC(C=0.5,loss=\"hinge\",multi_class=\"ovr\",penalty=\"l2\")\n",
    "fit_data = clf_svc.fit(obamaData_counts,obamaData_labels)\n",
    "predictions = clf_svc.predict(obamaCleanedData_counts)\n",
    "obamaCleanedData_labels = pd.to_numeric(obamaCleanedData_labels)\n",
    "accuracy = ((predictions==obamaCleanedData_labels).sum()*100/float(len(obamaCleanedData_labels)))\n",
    "confusion = confusion_matrix(obamaCleanedData_labels, predictions)\n",
    "print(accuracy)\n",
    "print(classification_report(obamaCleanedData_labels,predictions))\n",
    "print(confusion)\n"
   ]
  },
  {
   "cell_type": "markdown",
   "metadata": {},
   "source": [
    "## Voting Classifier - Naive Bayes, Random Forest, Neural Network"
   ]
  },
  {
   "cell_type": "code",
   "execution_count": 100,
   "metadata": {
    "collapsed": false
   },
   "outputs": [
    {
     "name": "stdout",
     "output_type": "stream",
     "text": [
      "57.7948717949\n",
      "             precision    recall  f1-score   support\n",
      "\n",
      "         -1       0.58      0.68      0.63       687\n",
      "          0       0.57      0.49      0.52       681\n",
      "          1       0.59      0.56      0.57       582\n",
      "\n",
      "avg / total       0.58      0.58      0.58      1950\n",
      "\n",
      "[[469 134  84]\n",
      " [203 333 145]\n",
      " [136 121 325]]\n"
     ]
    }
   ],
   "source": [
    "clf_voting = VotingClassifier(estimators=[('mnb', clf_mnb), ('rfc', clf_rfc)],\n",
    "                              voting='soft',n_jobs=-1)\n",
    "fit_data = clf_voting.fit(obamaData_counts,obamaData_labels)\n",
    "predictions = clf_voting.predict(obamaCleanedData_counts)\n",
    "obamaCleanedData_labels = pd.to_numeric(obamaCleanedData_labels)\n",
    "accuracy = ((predictions==obamaCleanedData_labels).sum()*100/float(len(obamaCleanedData_labels)))\n",
    "confusion = confusion_matrix(obamaCleanedData_labels, predictions)\n",
    "print(accuracy)\n",
    "print(classification_report(obamaCleanedData_labels,predictions))\n",
    "print(confusion)\n"
   ]
  },
  {
   "cell_type": "markdown",
   "metadata": {},
   "source": [
    "## Romney Data"
   ]
  },
  {
   "cell_type": "code",
   "execution_count": 74,
   "metadata": {
    "collapsed": false
   },
   "outputs": [
    {
     "name": "stdout",
     "output_type": "stream",
     "text": [
      "5648\n",
      "5640\n"
     ]
    }
   ],
   "source": [
    "romneyData = pd.read_csv(\"romneyCleanedData.csv\")\n",
    "print(len(romneyData))\n",
    "romneyData.dropna(axis=0,inplace=True)\n",
    "print(len(romneyData))"
   ]
  },
  {
   "cell_type": "code",
   "execution_count": 93,
   "metadata": {
    "collapsed": true
   },
   "outputs": [],
   "source": [
    "count_vect = CountVectorizer(max_features=1500)\n",
    "tfidf_transformer = TfidfTransformer()\n",
    "# Training Data\n",
    "train_romney_counts = count_vect.fit_transform(romneyData['tweet'])\n",
    "train_romney_labels = romneyData['label']\n",
    "\n",
    "#Testing Data\n",
    "test_romney_counts = count_vect.transform(romneyCleanedData['tweet'])\n",
    "test_romney_labels = romneyCleanedData['label']\n"
   ]
  },
  {
   "cell_type": "markdown",
   "metadata": {},
   "source": [
    "## Voting Classifier - Naive Bayes, Random Forest, Neural Network"
   ]
  },
  {
   "cell_type": "code",
   "execution_count": 94,
   "metadata": {
    "collapsed": false
   },
   "outputs": [
    {
     "name": "stdout",
     "output_type": "stream",
     "text": [
      "58.3464981569\n",
      "             precision    recall  f1-score   support\n",
      "\n",
      "         -1       0.63      0.78      0.69       960\n",
      "          0       0.47      0.42      0.45       555\n",
      "          1       0.60      0.33      0.43       384\n",
      "\n",
      "avg / total       0.58      0.58      0.57      1899\n",
      "\n",
      "[[746 176  38]\n",
      " [274 234  47]\n",
      " [172  84 128]]\n"
     ]
    }
   ],
   "source": [
    "clf_voting = VotingClassifier(estimators=[('mnb', clf_mnb), ('rfc', clf_rfc)],\n",
    "                              voting='soft',n_jobs=-1)\n",
    "fit_data = clf_voting.fit(train_romney_counts,train_romney_labels)\n",
    "predictions = clf_voting.predict(test_romney_counts)\n",
    "test_romney_labels = pd.to_numeric(test_romney_labels)\n",
    "accuracy = ((predictions==test_romney_labels).sum()*100/float(len(test_romney_labels)))\n",
    "confusion = confusion_matrix(test_romney_labels, predictions)\n",
    "print(accuracy)\n",
    "print(classification_report(test_romney_labels,predictions))\n",
    "print(confusion)\n"
   ]
  },
  {
   "cell_type": "markdown",
   "metadata": {},
   "source": [
    "## Romney Sampled Data"
   ]
  },
  {
   "cell_type": "code",
   "execution_count": 78,
   "metadata": {
    "collapsed": false
   },
   "outputs": [
    {
     "name": "stdout",
     "output_type": "stream",
     "text": [
      "6242\n",
      "6232\n"
     ]
    }
   ],
   "source": [
    "romney_sampledData = pd.read_csv(\"romneyCleanedData_with_sampling_2.csv\")\n",
    "print(len(romney_sampledData))\n",
    "romney_sampledData.dropna(axis=0,inplace=True)\n",
    "print(len(romney_sampledData))"
   ]
  },
  {
   "cell_type": "code",
   "execution_count": 95,
   "metadata": {
    "collapsed": true
   },
   "outputs": [],
   "source": [
    "count_vect = CountVectorizer(max_features=1500)\n",
    "tfidf_transformer = TfidfTransformer()\n",
    "# Training Data\n",
    "train_romney_counts = count_vect.fit_transform(romney_sampledData['tweet'])\n",
    "train_romney_labels = romney_sampledData['label']\n",
    "\n",
    "#Testing Data\n",
    "test_romney_counts = count_vect.transform(romneyCleanedData['tweet'])\n",
    "test_romney_labels = romneyCleanedData['label']\n"
   ]
  },
  {
   "cell_type": "markdown",
   "metadata": {},
   "source": [
    "## Voting Classifier - Naive Bayes, Random Forest, Neural Network"
   ]
  },
  {
   "cell_type": "code",
   "execution_count": 96,
   "metadata": {
    "collapsed": false
   },
   "outputs": [
    {
     "name": "stdout",
     "output_type": "stream",
     "text": [
      "57.9778830964\n",
      "             precision    recall  f1-score   support\n",
      "\n",
      "         -1       0.63      0.75      0.69       960\n",
      "          0       0.47      0.41      0.44       555\n",
      "          1       0.57      0.40      0.47       384\n",
      "\n",
      "avg / total       0.57      0.58      0.57      1899\n",
      "\n",
      "[[720 181  59]\n",
      " [271 227  57]\n",
      " [151  79 154]]\n"
     ]
    }
   ],
   "source": [
    "clf_voting = VotingClassifier(estimators=[('mnb', clf_mnb), ('rfc', clf_rfc)],\n",
    "                              voting='soft',n_jobs=-1)\n",
    "fit_data = clf_voting.fit(train_romney_counts,train_romney_labels)\n",
    "predictions = clf_voting.predict(test_romney_counts)\n",
    "test_romney_labels = pd.to_numeric(test_romney_labels)\n",
    "accuracy = ((predictions==test_romney_labels).sum()*100/float(len(test_romney_labels)))\n",
    "confusion = confusion_matrix(test_romney_labels, predictions)\n",
    "print(accuracy)\n",
    "print(classification_report(test_romney_labels,predictions))\n",
    "print(confusion)\n"
   ]
  },
  {
   "cell_type": "code",
   "execution_count": 87,
   "metadata": {
    "collapsed": false
   },
   "outputs": [
    {
     "data": {
      "text/plain": [
       "-1    2891\n",
       " 0    1679\n",
       " 1    1662\n",
       "Name: label, dtype: int64"
      ]
     },
     "execution_count": 87,
     "metadata": {},
     "output_type": "execute_result"
    }
   ],
   "source": [
    "romney_sampledData['label'].value_counts()"
   ]
  },
  {
   "cell_type": "markdown",
   "metadata": {},
   "source": [
    "## Romney sampled data 2"
   ]
  },
  {
   "cell_type": "code",
   "execution_count": 82,
   "metadata": {
    "collapsed": false
   },
   "outputs": [
    {
     "name": "stdout",
     "output_type": "stream",
     "text": [
      "6642\n",
      "6629\n"
     ]
    }
   ],
   "source": [
    "romney_sampled2Data = pd.read_csv(\"romneyCleanedData_with_sampling.csv\")\n",
    "print(len(romney_sampled2Data))\n",
    "romney_sampled2Data.dropna(axis=0,inplace=True)\n",
    "print(len(romney_sampled2Data))"
   ]
  },
  {
   "cell_type": "code",
   "execution_count": 97,
   "metadata": {
    "collapsed": true
   },
   "outputs": [],
   "source": [
    "count_vect = CountVectorizer(max_features=1500)\n",
    "tfidf_transformer = TfidfTransformer()\n",
    "# Training Data\n",
    "train_romney_counts = count_vect.fit_transform(romney_sampled2Data['tweet'])\n",
    "train_romney_labels = romney_sampled2Data['label']\n",
    "\n",
    "#Testing Data\n",
    "test_romney_counts = count_vect.transform(romneyCleanedData['tweet'])\n",
    "test_romney_labels = romneyCleanedData['label']\n"
   ]
  },
  {
   "cell_type": "markdown",
   "metadata": {},
   "source": [
    "## Voting Classifier - Naive Bayes, Random Forest, Neural Network"
   ]
  },
  {
   "cell_type": "code",
   "execution_count": 98,
   "metadata": {
    "collapsed": false
   },
   "outputs": [
    {
     "name": "stdout",
     "output_type": "stream",
     "text": [
      "58.9257503949\n",
      "             precision    recall  f1-score   support\n",
      "\n",
      "         -1       0.64      0.75      0.69       960\n",
      "          0       0.48      0.43      0.45       555\n",
      "          1       0.57      0.42      0.49       384\n",
      "\n",
      "avg / total       0.58      0.59      0.58      1899\n",
      "\n",
      "[[717 176  67]\n",
      " [259 239  57]\n",
      " [140  81 163]]\n"
     ]
    }
   ],
   "source": [
    "clf_voting = VotingClassifier(estimators=[('mnb', clf_mnb), ('rfc', clf_rfc)],\n",
    "                              voting='soft',n_jobs=-1)\n",
    "fit_data = clf_voting.fit(train_romney_counts,train_romney_labels)\n",
    "predictions = clf_voting.predict(test_romney_counts)\n",
    "test_romney_labels = pd.to_numeric(test_romney_labels)\n",
    "accuracy = ((predictions==test_romney_labels).sum()*100/float(len(test_romney_labels)))\n",
    "confusion = confusion_matrix(test_romney_labels, predictions)\n",
    "print(accuracy)\n",
    "print(classification_report(test_romney_labels,predictions))\n",
    "print(confusion)\n"
   ]
  },
  {
   "cell_type": "code",
   "execution_count": 88,
   "metadata": {
    "collapsed": false
   },
   "outputs": [
    {
     "data": {
      "text/plain": [
       "-1    2891\n",
       " 1    2059\n",
       " 0    1679\n",
       "Name: label, dtype: int64"
      ]
     },
     "execution_count": 88,
     "metadata": {},
     "output_type": "execute_result"
    }
   ],
   "source": [
    "romney_sampled2Data['label'].value_counts()"
   ]
  },
  {
   "cell_type": "code",
   "execution_count": null,
   "metadata": {
    "collapsed": true
   },
   "outputs": [],
   "source": []
  }
 ],
 "metadata": {
  "kernelspec": {
   "display_name": "Python 3",
   "language": "python",
   "name": "python3"
  },
  "language_info": {
   "codemirror_mode": {
    "name": "ipython",
    "version": 3
   },
   "file_extension": ".py",
   "mimetype": "text/x-python",
   "name": "python",
   "nbconvert_exporter": "python",
   "pygments_lexer": "ipython3",
   "version": "3.5.2"
  }
 },
 "nbformat": 4,
 "nbformat_minor": 0
}
